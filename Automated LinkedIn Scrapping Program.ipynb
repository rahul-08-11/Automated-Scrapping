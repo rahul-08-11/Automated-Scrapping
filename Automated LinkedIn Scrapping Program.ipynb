{
 "cells": [
  {
   "cell_type": "markdown",
   "id": "6bb75e55",
   "metadata": {},
   "source": [
    "## Automated LinkedIn Learning Course Extractor"
   ]
  },
  {
   "cell_type": "code",
   "execution_count": null,
   "id": "46df12f0",
   "metadata": {},
   "outputs": [],
   "source": [
    "##libraries\n",
    "from selenium.webdriver import Chrome\n",
    "from selenium.webdriver.common.by import By\n",
    "from selenium.webdriver.support.ui import WebDriverWait\n",
    "from selenium.webdriver.support import expected_conditions as EC\n",
    "from selenium.webdriver.common.keys import Keys\n",
    "import pandas as pd\n",
    "from pandas import ExcelWriter "
   ]
  },
  {
   "cell_type": "code",
   "execution_count": null,
   "id": "bc8093f7",
   "metadata": {},
   "outputs": [],
   "source": [
    "print(\"\\033[1m\"+\"Automated LinkedIn Learning Course Extractor\"+\"\\033[0m\")\n",
    "\n",
    "field=input(\"In which field you want to search courses:\")\n",
    "\n",
    "courses_title_and_link_table=pd.DataFrame(columns=[\"Course_title\",\"Duration\",\"instructor\",\"Link_to_course\"])\n",
    "courses_title_and_link_table\n",
    "\n",
    "\n",
    "driver = Chrome(executable_path='/home/rahuldevs/chromedriver_linux64/chromedriver')\n",
    "\n",
    "driver.get(\"https://www.linkedin.com/login\")\n",
    "\n",
    "\n",
    "\n",
    "email_field = driver.find_element(By.ID,\"username\")\n",
    "password_field = driver.find_element(By.ID,\"password\")\n",
    "email_field.send_keys(\"anshuu5555@gmail.com\")\n",
    "password_field.send_keys(\"rahul@123456\")\n",
    "password_field.submit()\n",
    "\n",
    "element= WebDriverWait(driver, 30).until(\n",
    "    EC.visibility_of_element_located((By.ID, \"global-nav-search\")))\n",
    "\n",
    "print(\"Initiating Programe...\")\n",
    "search=driver.find_element(By.XPATH,\"/html/body/div[5]/header/div/div/div/button\")\n",
    "search_input=driver.find_element(By.XPATH,\"/html/body/div[5]/header/div/div/div/div[1]/input\")\n",
    "search.click()\n",
    "search_input.send_keys(field)\n",
    "search_input.send_keys(Keys.ENTER)\n",
    "\n",
    "driver.implicitly_wait(10)\n",
    "courses_option=driver.find_elements(By.CLASS_NAME,\"artdeco-pill.artdeco-pill--slate.artdeco-pill--choice.artdeco-pill--2.search-reusables__filter-pill-button\")\n",
    "for option in courses_option:\n",
    "    if option.text==\"Courses\":\n",
    "        courses_option=option\n",
    "        break\n",
    "courses_option.click()\n",
    "element= WebDriverWait(driver, 30).until(\n",
    "    EC.visibility_of_element_located((By.XPATH, \"/html/body/div[5]/div[3]/div[2]/div/div[1]/main/div/div/div[4]/div/div/button[2]\")))\n",
    "print(\"successfully initiated \")\n",
    "print(\"Extraction begin...\")\n",
    "def courses(button_xpath):\n",
    "    courses_list = driver.find_element(By.XPATH,\"/html/body/div[5]/div[3]/div[2]/div/div[1]/main/div/div/div[2]/div/ul\")\n",
    "    courses = courses_list.find_elements(By.XPATH, \"./li\")\n",
    "    for course in courses:\n",
    "        course_name = course.find_element(By.TAG_NAME, \"strong\").text\n",
    "        duration=course.find_element(By.CLASS_NAME,\"entity-result__primary-subtitle.t-14.t-black.t-normal\").text\n",
    "        duration=duration.split(\"•\")[1].strip()\n",
    "        \n",
    "        instructor=course.find_element(By.CLASS_NAME,\"entity-result__secondary-subtitle.t-14.t-normal\").text\n",
    "        \n",
    "        instructor = instructor.split(\":\")[1].split(\"•\")[0].strip()\n",
    "        \n",
    "        course_link = course.find_element(By.TAG_NAME, \"a\").get_attribute(\"href\")\n",
    "        courses_title_and_link_table.loc[len(courses_title_and_link_table)]=[course_name,duration,instructor,course_link]\n",
    "    button=driver.find_element(By.XPATH,button_xpath)\n",
    "    return button\n",
    "    \n",
    "\n",
    "courses(\"/html/body/div[5]/div[3]/div[2]/div/div[1]/main/div/div/div[4]/div/div/button[2]\").click()\n",
    "\n",
    "while True:\n",
    "    driver.implicitly_wait(20) \n",
    "\n",
    "    button=courses(\"/html/body/div[5]/div[3]/div[2]/div/div[1]/main/div/div/div[2]/div/div[2]/div/button[2]\")\n",
    "    if button.is_enabled():\n",
    "        button.click()\n",
    "        continue\n",
    "    else:\n",
    "        break\n",
    "print(\"successfully Extracting!\")  \n",
    "\n",
    "\n",
    "print(f\"Saving into {field}.xlsx file...\")\n",
    "\n",
    "\n",
    "driver.quit()\n",
    "courses_title_and_link_table.to_excel(f\"{field}_courses.xlsx\")\n",
    "with ExcelWriter(f\"{field}_courses.xlsx\") as writer:\n",
    "    courses_title_and_link_table.to_excel(writer, sheet_name='Sheet1', index=False)\n",
    "    worksheet = writer.sheets['Sheet1']\n",
    "    worksheet.set_column('A:Z', 20)\n",
    "\n",
    "print(\"Finished!\")"
   ]
  }
 ],
 "metadata": {
  "kernelspec": {
   "display_name": "Python 3 (ipykernel)",
   "language": "python",
   "name": "python3"
  },
  "language_info": {
   "codemirror_mode": {
    "name": "ipython",
    "version": 3
   },
   "file_extension": ".py",
   "mimetype": "text/x-python",
   "name": "python",
   "nbconvert_exporter": "python",
   "pygments_lexer": "ipython3",
   "version": "3.10.7"
  },
  "varInspector": {
   "cols": {
    "lenName": 16,
    "lenType": 16,
    "lenVar": 40
   },
   "kernels_config": {
    "python": {
     "delete_cmd_postfix": "",
     "delete_cmd_prefix": "del ",
     "library": "var_list.py",
     "varRefreshCmd": "print(var_dic_list())"
    },
    "r": {
     "delete_cmd_postfix": ") ",
     "delete_cmd_prefix": "rm(",
     "library": "var_list.r",
     "varRefreshCmd": "cat(var_dic_list()) "
    }
   },
   "types_to_exclude": [
    "module",
    "function",
    "builtin_function_or_method",
    "instance",
    "_Feature"
   ],
   "window_display": false
  }
 },
 "nbformat": 4,
 "nbformat_minor": 5
}
